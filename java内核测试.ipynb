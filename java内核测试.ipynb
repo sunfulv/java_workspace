{
 "cells": [
  {
   "cell_type": "code",
   "execution_count": 19,
   "metadata": {},
   "outputs": [],
   "source": [
    "import java.util.logging.*;\n",
    "\n",
    "Logger log = Logger.getLogger(\"com\"); \n",
    "log.setLevel(Level.WARNING); \n",
    "Logger log2 = Logger.getLogger(\"com.xiya\");\n",
    "log2.info(\"111\");\n",
    "log2.severe(\"222\"); \n",
    "log2.warning(\"333\");\n"
   ]
  },
  {
   "cell_type": "code",
   "execution_count": null,
   "metadata": {},
   "outputs": [],
   "source": []
  },
  {
   "cell_type": "code",
   "execution_count": null,
   "metadata": {},
   "outputs": [],
   "source": []
  }
 ],
 "metadata": {
  "kernelspec": {
   "display_name": "Java",
   "language": "java",
   "name": "java"
  },
  "language_info": {
   "codemirror_mode": "java",
   "file_extension": ".jshell",
   "mimetype": "text/x-java-source",
   "name": "Java",
   "pygments_lexer": "java",
   "version": "12.0.1+12"
  }
 },
 "nbformat": 4,
 "nbformat_minor": 2
}
