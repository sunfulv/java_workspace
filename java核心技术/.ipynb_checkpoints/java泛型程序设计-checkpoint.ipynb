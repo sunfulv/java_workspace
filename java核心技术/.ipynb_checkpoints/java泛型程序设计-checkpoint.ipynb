{
 "cells": [
  {
   "cell_type": "markdown",
   "metadata": {},
   "source": [
    "## 8.2 定义简单的泛型类"
   ]
  },
  {
   "cell_type": "code",
   "execution_count": 9,
   "metadata": {},
   "outputs": [
    {
     "name": "stdout",
     "output_type": "stream",
     "text": [
      "min=Mary\n",
      "max=little\n"
     ]
    }
   ],
   "source": [
    "//首先是一个定义了一个简单的泛型类（数据对）\n",
    "class Pair<T>{\n",
    "    private T first;\n",
    "    private T second;\n",
    "    \n",
    "    public Pair(){\n",
    "        this.first = first;\n",
    "        this.second = second;\n",
    "    }\n",
    "    public Pair(T first, T second){\n",
    "        this.first = first;\n",
    "        this.second = second;\n",
    "    }\n",
    "    \n",
    "    public T getFirst(){\n",
    "        return this.first;\n",
    "    }\n",
    "    public T getSecond(){\n",
    "        return this.second;\n",
    "    }\n",
    "    \n",
    "    public void setFirst(T newValue){\n",
    "        this.first = newValue;\n",
    "    }\n",
    "    public void setSecond(T newValue){\n",
    "        this.second = newValue;\n",
    "    }\n",
    "}\n",
    "\n",
    "//定义了一个返回字符串数组中最大最小值的算法（按照字典序排序，按照ASCII顺序），最后的结果使用Pair对象返回\n",
    "class PairAlg{\n",
    "    public static Pair<String> maxmin(String[] a){\n",
    "        if(a==null||a.length == 0) return null;\n",
    "        \n",
    "        String min = a[0];\n",
    "        String max = a[0];\n",
    "        for(String s:a){\n",
    "            if(min.compareTo(s)>0)min = s;\n",
    "            if(max.compareTo(s)<0)max = s;\n",
    "        }\n",
    "        return new Pair<String>(min,max);\n",
    "    }\n",
    "}\n",
    "\n",
    "String[] a = {\"Mary\",\"had\",\"a\",\"little\",\"lamb\"};\n",
    "Pair<String> res = PairAlg.maxmin(a);\n",
    "System.out.println(\"min=\"+res.getFirst());\n",
    "System.out.println(\"max=\"+res.getSecond());"
   ]
  },
  {
   "cell_type": "code",
   "execution_count": 20,
   "metadata": {},
   "outputs": [
    {
     "name": "stdout",
     "output_type": "stream",
     "text": [
      "min=Mary\n",
      "max=little\n",
      "nums min=0\n",
      "nums max=9\n"
     ]
    }
   ],
   "source": [
    "class ArrayAlg{\n",
    "    public static <T extends Comparable> Pair<T> minmax(T[] a){\n",
    "        if(a==null||a.length==0) return null;\n",
    "        T min = a[0];\n",
    "        T max = a[0];\n",
    "        for(T s:a){\n",
    "            if(min.compareTo(s)>0) min = s;\n",
    "            if(max.compareTo(s)<0) max = s;\n",
    "        }\n",
    "        \n",
    "        return new Pair<T>(min,max);\n",
    "    }\n",
    "}\n",
    "String[] words = {\"Mary\",\"had\",\"a\",\"little\",\"lamb\"};\n",
    "//传入的泛型数组为字符串类型的数组，而字符串类型实现了Comparable接口，所以可以计算最大最小值\n",
    "Pair<String> res = ArrayAlg.<String>minmax(words);\n",
    "System.out.println(\"str min=\"+res.getFirst());\n",
    "System.out.println(\"str max=\"+res.getSecond());\n",
    "\n",
    "//\n",
    "Integer[] nums = {1,5,6,3,7,9,0,2};\n",
    "Pair<Integer> res = ArrayAlg.<Integer>minmax(nums);\n",
    "System.out.println(\"nums min=\"+res.getFirst());\n",
    "System.out.println(\"nums max=\"+res.getSecond());"
   ]
  },
  {
   "cell_type": "markdown",
   "metadata": {},
   "source": [
    "<b>注意，在运行时，不能查询一个对象是否属于泛型类，只能查询是否属于原始类型</b><br>\n",
    "这是因为类型擦出的原因"
   ]
  },
  {
   "cell_type": "code",
   "execution_count": 23,
   "metadata": {},
   "outputs": [
    {
     "name": "stdout",
     "output_type": "stream",
     "text": [
      "class REPL.$JShell$12C$Pair\n",
      "class REPL.$JShell$12C$Pair\n"
     ]
    }
   ],
   "source": [
    "Pair<String> s = new Pair<>();\n",
    "Pair<Integer> n = new Pair<>();\n",
    "//虽然两个对象s,n的实际类型不同，但是他们都是属于同一个原始类，不因为实际类型的不同而属于不同的类\n",
    "System.out.println(s.getClass());\n",
    "System.out.println(n.getClass());"
   ]
  },
  {
   "cell_type": "markdown",
   "metadata": {},
   "source": [
    "<b>不能创建参数化类型的数组<b><br>"
   ]
  },
  {
   "cell_type": "code",
   "execution_count": 24,
   "metadata": {},
   "outputs": [
    {
     "ename": "CompilationException",
     "evalue": "",
     "output_type": "error",
     "traceback": [
      "\u001b[1m\u001b[30m|   \u001b[1m\u001b[30mPair<String>[] s = \u001b[0m\u001b[1m\u001b[30m\u001b[41mnew Pair<String>[10]\u001b[0m\u001b[1m\u001b[30m;\u001b[0m",
      "\u001b[1m\u001b[31m创建泛型数组\u001b[0m",
      ""
     ]
    }
   ],
   "source": [
    "Pair<String>[] s = new Pair<String>[10];"
   ]
  },
  {
   "cell_type": "markdown",
   "metadata": {},
   "source": [
    "### 8.8 通配符类型\n",
    "\n",
    "<b>子类通配符 \"? extends\" 和超类型通配符 \"? super\" 的区别与联系</b><br>\n",
    "\n",
    "根据PECS原则，Producer extends,Consumer super.<br>\n",
    "消费者（向数据结构中写入数据对象，使用 ? super）<br>\n",
    "生产者（从数据结构中读取数据，使用? extends)\n",
    "\n",
    "下面看一个例子"
   ]
  },
  {
   "cell_type": "markdown",
   "metadata": {},
   "source": [
    "<b>首先定义定义类Fruit以及他们的子类Apple和Orange。"
   ]
  },
  {
   "cell_type": "code",
   "execution_count": 2,
   "metadata": {},
   "outputs": [
    {
     "name": "stdout",
     "output_type": "stream",
     "text": [
      "This is Fruit\n",
      "This is Orange\n"
     ]
    },
    {
     "ename": "EvalException",
     "evalue": "REPL.$JShell$14$Orange",
     "output_type": "error",
     "traceback": [
      "\u001b[1m\u001b[31m---------------------------------------------------------------------------\u001b[0m",
      "\u001b[1m\u001b[31mjava.lang.ArrayStoreException: REPL.$JShell$14$Orange\u001b[0m",
      "\u001b[1m\u001b[31m\tat .(#18:1)\u001b[0m"
     ]
    }
   ],
   "source": [
    "//\n",
    "class Fruit{\n",
    "    public Fruit(){\n",
    "        System.out.println(\"This is Fruit\");\n",
    "    }\n",
    "}\n",
    "\n",
    "class Apple extends Fruit{\n",
    "    public Apple(){\n",
    "        System.out.println(\"This is Apple\");\n",
    "    }\n",
    "}\n",
    "\n",
    "class Orange extends Fruit{\n",
    "    public Orange(){\n",
    "        System.out.println(\"This is Orange\");\n",
    "    }\n",
    "}\n",
    "\n",
    "//\n",
    "Apple[] apples = new Apple[1];\n",
    "Fruit[] fruits = apples;\n",
    "fruits[0] = new Orange(); //\n",
    "\n"
   ]
  },
  {
   "cell_type": "markdown",
   "metadata": {},
   "source": [
    "<b>这里向一个声明为Fruit类的Apple数组中加入Orange对象时，会跳出数据存储类型异常，应为Apple和Orange不存在子类关系</b>"
   ]
  }
 ],
 "metadata": {
  "kernelspec": {
   "display_name": "Java",
   "language": "java",
   "name": "java"
  },
  "language_info": {
   "codemirror_mode": "java",
   "file_extension": ".jshell",
   "mimetype": "text/x-java-source",
   "name": "Java",
   "pygments_lexer": "java",
   "version": "12.0.1+12"
  }
 },
 "nbformat": 4,
 "nbformat_minor": 2
}
