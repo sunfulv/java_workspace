{
 "cells": [
  {
   "cell_type": "markdown",
   "metadata": {},
   "source": [
    "## 8.2 定义简单的泛型类"
   ]
  },
  {
   "cell_type": "code",
   "execution_count": 9,
   "metadata": {},
   "outputs": [
    {
     "name": "stdout",
     "output_type": "stream",
     "text": [
      "min=Mary\n",
      "max=little\n"
     ]
    }
   ],
   "source": [
    "//首先是一个定义了一个简单的泛型类（数据对）\n",
    "class Pair<T>{\n",
    "    private T first;\n",
    "    private T second;\n",
    "    \n",
    "    public Pair(){\n",
    "        this.first = first;\n",
    "        this.second = second;\n",
    "    }\n",
    "    public Pair(T first, T second){\n",
    "        this.first = first;\n",
    "        this.second = second;\n",
    "    }\n",
    "    \n",
    "    public T getFirst(){\n",
    "        return this.first;\n",
    "    }\n",
    "    public T getSecond(){\n",
    "        return this.second;\n",
    "    }\n",
    "    \n",
    "    public void setFirst(T newValue){\n",
    "        this.first = newValue;\n",
    "    }\n",
    "    public void setSecond(T newValue){\n",
    "        this.second = newValue;\n",
    "    }\n",
    "}\n",
    "\n",
    "//定义了一个返回字符串数组中最大最小值的算法（按照字典序排序，按照ASCII顺序），最后的结果使用Pair对象返回\n",
    "class PairAlg{\n",
    "    public static Pair<String> maxmin(String[] a){\n",
    "        if(a==null||a.length == 0) return null;\n",
    "        \n",
    "        String min = a[0];\n",
    "        String max = a[0];\n",
    "        for(String s:a){\n",
    "            if(min.compareTo(s)>0)min = s;\n",
    "            if(max.compareTo(s)<0)max = s;\n",
    "        }\n",
    "        return new Pair<String>(min,max);\n",
    "    }\n",
    "}\n",
    "\n",
    "String[] a = {\"Mary\",\"had\",\"a\",\"little\",\"lamb\"};\n",
    "Pair<String> res = PairAlg.maxmin(a);\n",
    "System.out.println(\"min=\"+res.getFirst());\n",
    "System.out.println(\"max=\"+res.getSecond());"
   ]
  },
  {
   "cell_type": "code",
   "execution_count": 20,
   "metadata": {},
   "outputs": [
    {
     "name": "stdout",
     "output_type": "stream",
     "text": [
      "min=Mary\n",
      "max=little\n",
      "nums min=0\n",
      "nums max=9\n"
     ]
    }
   ],
   "source": [
    "class ArrayAlg{\n",
    "    public static <T extends Comparable> Pair<T> minmax(T[] a){\n",
    "        if(a==null||a.length==0) return null;\n",
    "        T min = a[0];\n",
    "        T max = a[0];\n",
    "        for(T s:a){\n",
    "            if(min.compareTo(s)>0) min = s;\n",
    "            if(max.compareTo(s)<0) max = s;\n",
    "        }\n",
    "        \n",
    "        return new Pair<T>(min,max);\n",
    "    }\n",
    "}\n",
    "String[] words = {\"Mary\",\"had\",\"a\",\"little\",\"lamb\"};\n",
    "//传入的泛型数组为字符串类型的数组，而字符串类型实现了Comparable接口，所以可以计算最大最小值\n",
    "Pair<String> res = ArrayAlg.<String>minmax(words);\n",
    "System.out.println(\"str min=\"+res.getFirst());\n",
    "System.out.println(\"str max=\"+res.getSecond());\n",
    "\n",
    "//\n",
    "Integer[] nums = {1,5,6,3,7,9,0,2};\n",
    "Pair<Integer> res = ArrayAlg.<Integer>minmax(nums);\n",
    "System.out.println(\"nums min=\"+res.getFirst());\n",
    "System.out.println(\"nums max=\"+res.getSecond());"
   ]
  },
  {
   "cell_type": "markdown",
   "metadata": {},
   "source": [
    "<b>注意，在运行时，不能查询一个对象是否属于泛型类，只能查询是否属于原始类型</b><br>\n",
    "这是因为类型擦出的原因"
   ]
  },
  {
   "cell_type": "code",
   "execution_count": 23,
   "metadata": {},
   "outputs": [
    {
     "name": "stdout",
     "output_type": "stream",
     "text": [
      "class REPL.$JShell$12C$Pair\n",
      "class REPL.$JShell$12C$Pair\n"
     ]
    }
   ],
   "source": [
    "Pair<String> s = new Pair<>();\n",
    "Pair<Integer> n = new Pair<>();\n",
    "//虽然两个对象s,n的实际类型不同，但是他们都是属于同一个原始类，不因为实际类型的不同而属于不同的类\n",
    "System.out.println(s.getClass());\n",
    "System.out.println(n.getClass());"
   ]
  },
  {
   "cell_type": "markdown",
   "metadata": {},
   "source": [
    "<b>不能创建参数化类型的数组<b><br>"
   ]
  },
  {
   "cell_type": "code",
   "execution_count": 24,
   "metadata": {},
   "outputs": [
    {
     "ename": "CompilationException",
     "evalue": "",
     "output_type": "error",
     "traceback": [
      "\u001b[1m\u001b[30m|   \u001b[1m\u001b[30mPair<String>[] s = \u001b[0m\u001b[1m\u001b[30m\u001b[41mnew Pair<String>[10]\u001b[0m\u001b[1m\u001b[30m;\u001b[0m",
      "\u001b[1m\u001b[31m创建泛型数组\u001b[0m",
      ""
     ]
    }
   ],
   "source": [
    "Pair<String>[] s = new Pair<String>[10];"
   ]
  },
  {
   "cell_type": "markdown",
   "metadata": {},
   "source": [
    "### 8.8 通配符类型\n",
    "\n",
    "<b>子类通配符 \"? extends\" 和超类型通配符 \"? super\" 的区别与联系</b><br>\n",
    "\n",
    "根据PECS原则，Producer extends,Consumer super.<br>\n",
    "消费者（向数据结构中写入数据对象，使用 ? super）<br>\n",
    "生产者（从数据结构中读取数据，使用? extends)\n",
    "\n",
    "下面看一个例子"
   ]
  },
  {
   "cell_type": "markdown",
   "metadata": {},
   "source": [
    "<b>首先定义定义类Fruit以及他们的子类Apple和Orange。"
   ]
  },
  {
   "cell_type": "code",
   "execution_count": 7,
   "metadata": {},
   "outputs": [
    {
     "ename": "EvalException",
     "evalue": "REPL.$JShell$14D$Orange",
     "output_type": "error",
     "traceback": [
      "\u001b[1m\u001b[31m---------------------------------------------------------------------------\u001b[0m",
      "\u001b[1m\u001b[31mjava.lang.ArrayStoreException: REPL.$JShell$14D$Orange\u001b[0m",
      "\u001b[1m\u001b[31m\tat .(#26:1)\u001b[0m"
     ]
    }
   ],
   "source": [
    "//\n",
    "class Fruit{\n",
    "    public void print(){\n",
    "        System.out.println(\"This is Fruit\");\n",
    "    }\n",
    "}\n",
    "\n",
    "class Apple extends Fruit{\n",
    "    public void print(){\n",
    "        System.out.println(\"This is Apple\");\n",
    "    }\n",
    "}\n",
    "\n",
    "class Orange extends Fruit{\n",
    "    public void print(){\n",
    "        System.out.println(\"This is Orange\");\n",
    "    }\n",
    "}\n",
    "\n",
    "//\n",
    "Apple[] apples = new Apple[1];\n",
    "Fruit[] fruits = apples;\n",
    "fruits[0] = new Orange(); //\n",
    "\n"
   ]
  },
  {
   "cell_type": "markdown",
   "metadata": {},
   "source": [
    "<b>这里向一个声明为Fruit类的Apple数组中加入Orange对象时，程序会成功编译，但是在执行时会跳出数据存储类型异常，应为Apple和Orange不存在子类关系</b>\n",
    "\n",
    "如果使用<b>? extend通配符</b>，使用List<? extends Fruit>来引用List<Apple>对象时可以的<br>\n",
    "并且对内部存储的数据的访问也是相同的<br>\n",
    "因为List<? extends Fruit> 是List<Apple>的超类，向引用了List<Apple>对象的List<? extends Fruit>变量添加数据时，会出现编译错误<br>\n",
    "<b>因为无法向一个使用了? extends通配符的数据结构中写入任何数据</b><br>\n",
    "\n",
    "原因：<br>\n",
    "这个? extends T 通配符告诉编译器我们在处理一个类型T的子类型，但我们不知道这个子类型究竟是什么。因为没法确定，为了保证类型安全，我们就不允许往里面加入任何这种类型的数据。另一方面，因为我们知道，不论它是什么类型，它总是类型T的子类型，当我们在读取数据时，能确保得到的数据是一个T类型的实例"
   ]
  },
  {
   "cell_type": "code",
   "execution_count": 14,
   "metadata": {},
   "outputs": [
    {
     "name": "stdout",
     "output_type": "stream",
     "text": [
      "REPL.$JShell$13E$Apple@19e78d0d\n",
      "REPL.$JShell$13E$Apple@19e78d0d\n"
     ]
    },
    {
     "ename": "CompilationException",
     "evalue": "",
     "output_type": "error",
     "traceback": [
      "\u001b[1m\u001b[30m|   \u001b[1m\u001b[30mfruits.add(\u001b[0m\u001b[1m\u001b[30m\u001b[41mnew Fruit()\u001b[0m\u001b[1m\u001b[30m);\u001b[0m",
      "\u001b[1m\u001b[31m不兼容的类型: Fruit无法转换为capture#16, 共 ? extends Fruit\u001b[0m",
      ""
     ]
    }
   ],
   "source": [
    "import java.util.List;\n",
    "import java.util.ArrayList;\n",
    "\n",
    "List<Apple> apples = new ArrayList<>();\n",
    "apples.add(new Apple());\n",
    "System.out.println(apples.get(0));\n",
    "List<? extends Fruit> fruits = apples;\n",
    "System.out.println(fruits.get(0));\n",
    "//无法向fruits中写入任何数据\n",
    "apples.add(new Apple());\n",
    "fruits.add(new Fruit());\n",
    "fruits.add(new Orange());\n"
   ]
  },
  {
   "cell_type": "markdown",
   "metadata": {},
   "source": [
    "使用<b>? super超类性通配符</b>可以实现数据的写入  \n",
    "但是需要注意的是，这里List<? super Apple>表示的为Apple类的父类，如果一个类时List<Apple>的父类，那么他一定是List<? super Apple>的子类  \n",
    "需要注意的是，可以向<? super Apple>中写数据，但是由于只知道Apple类型或者Apple的子类型，而其他的Apple的父类未知，所以只能写入  \n",
    "Apple已经Apple子类型的数据  \n",
    "同样的<? super Apple>也可以访问数据结构中的数据，但是返回的数据类型无法保证，所以返回的数据全部为Object类型"
   ]
  },
  {
   "cell_type": "code",
   "execution_count": 26,
   "metadata": {},
   "outputs": [
    {
     "name": "stdout",
     "output_type": "stream",
     "text": [
      "This is Orange\n"
     ]
    }
   ],
   "source": [
    "class GreenApple extends Apple{\n",
    "    public void print(){\n",
    "        System.out.println(\"This is GreendApple\");\n",
    "    }\n",
    "}\n",
    "\n",
    "List<Fruit> fruits = new ArrayList<Fruit>();\n",
    "fruits.add(new Orange());\n",
    "List<? super Apple> apples = fruits;\n",
    "\n",
    "apples.add(new Apple());\n",
    "apples.add(new GreenApple());\n",
    "apples;\n",
    "((Orange)apples.get(0)).print();//无法保证返回的数据的类型，只能为返回的数据类型赋予Object类型,可以进行强制类型转换"
   ]
  },
  {
   "cell_type": "markdown",
   "metadata": {},
   "source": [
    "#### PECS原则  Producer extends,Consumer super  \n",
    "<b>对于经常访问的数据结构，使用 ? extend通配符  \n",
    "对于经常写入的数据结构，使用? super通配符"
   ]
  },
  {
   "cell_type": "code",
   "execution_count": null,
   "metadata": {},
   "outputs": [],
   "source": []
  }
 ],
 "metadata": {
  "kernelspec": {
   "display_name": "Java",
   "language": "java",
   "name": "java"
  },
  "language_info": {
   "codemirror_mode": "java",
   "file_extension": ".jshell",
   "mimetype": "text/x-java-source",
   "name": "Java",
   "pygments_lexer": "java",
   "version": "12.0.1+12"
  }
 },
 "nbformat": 4,
 "nbformat_minor": 2
}
