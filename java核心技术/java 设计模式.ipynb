{
 "cells": [
  {
   "cell_type": "markdown",
   "metadata": {},
   "source": [
    "### java 单例模式的实现\n",
    "**饿汉式，懒汉式,内部静态类**"
   ]
  },
  {
   "cell_type": "code",
   "execution_count": 5,
   "metadata": {},
   "outputs": [
    {
     "name": "stdout",
     "output_type": "stream",
     "text": [
      "s1地址:REPL.$JShell$12D$Singleton@50dcf22d,s2地址:REPL.$JShell$12D$Singleton@50dcf22d\n",
      "a1地址:REPL.$JShell$17$A@3013d43f,a2地址:REPL.$JShell$17$A@3ed42c4d\n"
     ]
    }
   ],
   "source": [
    "//饿汉式\n",
    "public class Singleton{\n",
    "    public static Singleton instance = new Singleton();\n",
    "    \n",
    "    private Singleton(){}\n",
    "    public static Singleton getInstance(){\n",
    "        return Singleton.instance;\n",
    "    }\n",
    "}\n",
    "\n",
    "public class A{\n",
    "    public A(){}\n",
    "}\n",
    "A a1 = new A();\n",
    "A a2 = new A();\n",
    "Singleton s1 = Singleton.getInstance();\n",
    "Singleton s2 = Singleton.getInstance();\n",
    "System.out.println(\"s1地址:\"+s1+\",\"+\"s2地址:\"+s2);\n",
    "System.out.println(\"a1地址:\"+a1+\",\"+\"a2地址:\"+a2);"
   ]
  },
  {
   "cell_type": "code",
   "execution_count": null,
   "metadata": {},
   "outputs": [],
   "source": []
  }
 ],
 "metadata": {
  "kernelspec": {
   "display_name": "Java",
   "language": "java",
   "name": "java"
  },
  "language_info": {
   "codemirror_mode": "java",
   "file_extension": ".jshell",
   "mimetype": "text/x-java-source",
   "name": "Java",
   "pygments_lexer": "java",
   "version": "12.0.1+12"
  }
 },
 "nbformat": 4,
 "nbformat_minor": 2
}
