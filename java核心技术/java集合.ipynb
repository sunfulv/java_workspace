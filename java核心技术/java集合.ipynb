{
 "cells": [
  {
   "cell_type": "markdown",
   "metadata": {},
   "source": [
    "## java集合类\n",
    "<b>主要参考《java核心技术》和《java 编程的逻辑》两本书  \n",
    "    "
   ]
  },
  {
   "cell_type": "markdown",
   "metadata": {},
   "source": [
    "理解每种数据结构的特性，对于不同的应用场景，选择合适的数据结构\n",
    "\n",
    "### 9.1剖析ArrayList\n",
    "<b>介绍基本的用法，实现原理，迭代操作，特点  </b>\n",
    "ArrayList是一个基本的泛型容器，他的内部是利用动态数组来实现的\n",
    ">可以进行随机访问，时间复杂度为O(1)<br>\n",
    ">数据的查找速度很慢，平均查找的时间复杂度为O(N)<br>\n",
    ">插入和删除元素时需要移动元素，所以插入或者删除一个元素的时间复杂度为O(N),也就是插入和删除元素的性能比较低<br>\n",
    ">ArrayList是非线程安全的<br>\n",
    "\n",
    "#### 9.1.1ArrayList的基本用法\n",
    "\n"
   ]
  },
  {
   "cell_type": "code",
   "execution_count": 22,
   "metadata": {},
   "outputs": [
    {
     "name": "stdout",
     "output_type": "stream",
     "text": [
      "list1中的元素:[0, 1, 2, 3, 20, 4, 5, 6, 7, 8, 9]\n",
      "list1是否为空:false\n",
      "list1的长度为:11\n",
      "获取list1位置4处的元素:20\n",
      "删除list1位置4出的元素:20\n",
      "删除元素后的list1的长度:10\n",
      "\n",
      "删除元素8之前的列表list1[0, 1, 2, 3, 4, 5, 6, 7, 8, 9]\n",
      "删除元素8:true\n",
      "删除元素8之后的列表list1[0, 1, 2, 3, 4, 5, 6, 7, 9]\n",
      "\n",
      "判断list1中是否包含元素10:false\n",
      "\n",
      "查找list1中元素10所在的位置:-1\n",
      "正序查找list1中元素6第一次出现的位置:6\n",
      "反向查找list1中元素6第一次出现的位置:6\n",
      "\n",
      "设置之前的列表list1:[0, 1, 2, 3, 4, 5, 6, 7, 9]\n",
      "将位置1的元素设置为100:1\n",
      "设置之后的列表list1[0, 100, 2, 3, 4, 5, 6, 7, 9]\n",
      "清空list1之后的list1:[]\n"
     ]
    }
   ],
   "source": [
    "import java.util.List;\n",
    "import java.util.ArrayList;\n",
    "\n",
    "ArrayList<Integer> list1 = new ArrayList<>(); //构造一个元素为Integer类型的ArrayList对象\n",
    "\n",
    "//常用方法\n",
    "for(int i=0;i<10;i++) list1.add(i);     //在列表末尾添加一个元素,方法 boolean add(E e)\n",
    "//在指定位置插入一个新元素，（先将从该位置以及之后的元素全部后移一位，再再当前位置插入给定的元素值)\n",
    "list1.add(4,20);\n",
    "System.out.println(\"list1中的元素:\"+list1);\n",
    "System.out.println(\"list1是否为空:\"+list1.isEmpty()); //判断list1是否为空，方法 boolean isEmpty()\n",
    "System.out.println(\"list1的长度为:\"+list1.size());    //获取列表的长度的方法，注意与数组长度array.length和字符串长度str.length()的区别\n",
    "System.out.println(\"获取list1位置4处的元素:\"+list1.get(4)); //获取列表位于默一位置的元素，使用get(index)\n",
    "\n",
    "System.out.println(\"删除list1位置4出的元素:\"+list1.remove(4)); //删除列表默一位置的元素，并返回被删除的元素\n",
    "System.out.println(\"删除元素后的list1的长度:\"+list1.size());\n",
    "System.out.println();\n",
    "//除了删除指定位置的元素，还可以删除指定的元素值，如果有多个元素值，删除第一个,兵器返回是否删除成功\n",
    "System.out.println(\"删除元素8之前的列表list1\"+list1);\n",
    "System.out.println(\"删除元素8:\"+list1.remove(Integer.valueOf(8)));\n",
    "System.out.println(\"删除元素8之后的列表list1\"+list1);\n",
    "System.out.println();\n",
    "\n",
    "//查找列表中的元素\n",
    "System.out.println(\"判断list1中是否包含元素10:\"+list1.contains(10)); //判断元素是否属于列表的方法，boolean contains(E e),\n",
    "System.out.println();\n",
    "//在列表中查找元素位置的方法，int indexOf(E e)和int lastIndexOf(E e),如果列表中不存在该元素，返回-1,查找时返回第一次找到该元素的位置\n",
    "System.out.println(\"查找list1中元素10所在的位置:\"+list1.indexOf(10));\n",
    "System.out.println(\"正序查找list1中元素6第一次出现的位置:\"+list1.indexOf(6));\n",
    "System.out.println(\"反向查找list1中元素6第一次出现的位置:\"+list1.lastIndexOf(6));\n",
    "System.out.println();\n",
    "//将指定位置的元素设置为给定值 E set(int index,E e),并返回旧的元素值\n",
    "System.out.println(\"设置之前的列表list1:\"+list1);\n",
    "System.out.println(\"将位置1的元素设置为100:\"+list1.set(1,100));\n",
    "System.out.println(\"设置之后的列表list1\"+list1);\n",
    "list1.clear();\n",
    "System.out.println(\"清空list1之后的list1:\"+list1);"
   ]
  },
  {
   "cell_type": "markdown",
   "metadata": {},
   "source": [
    "#### ArrayList实现原理中涉及到的相关操作 \n",
    "\n",
    "在ArrayList中，会维护一个modcount参数，用来记录ArrayList被修改的次数（添加，删除元素).  \n",
    "他的作用是在迭代操作中，判断ArrayList是否发生了结构新变化。\n",
    "<b>在对数组进行扩容时，会涉及到数组的拷贝（将数组中的元素转移一个新的数组对象中)"
   ]
  },
  {
   "cell_type": "code",
   "execution_count": 31,
   "metadata": {},
   "outputs": [
    {
     "name": "stdout",
     "output_type": "stream",
     "text": [
      "数组引用array_a指向的数组对象[I@45f527fc\n",
      "[0, 1, 4, 9, 16, 25, 36, 49, 64, 81]\n",
      "拷贝数据后，数组引用array_a指向的新的数组对象[I@f7b126\n",
      "[0, 1, 4, 9, 16, 25, 36, 49, 64, 81, 0, 0, 0, 0, 0, 0, 0, 0, 0, 0]\n"
     ]
    }
   ],
   "source": [
    "//首先创建一个数组并填充元素\n",
    "int[] array_a = new int[10];\n",
    "for(int i=0;i<array_a.length;i++) array_a[i] = i*i;\n",
    "System.out.println(\"数组引用array_a指向的数组对象\"+array_a);\n",
    "System.out.println(Arrays.toString(array_a));\n",
    "array_a = Arrays.copyOf(array_a,array_a.length<<1);\n",
    "System.out.println(\"拷贝数据后，数组引用array_a指向的新的数组对象\"+array_a);\n",
    "System.out.println(Arrays.toString(array_a));"
   ]
  },
  {
   "cell_type": "markdown",
   "metadata": {},
   "source": [
    "可以看到，利用Arrays中的静态方法copyOf()，  \n",
    "根据指定的长度来开辟一个新的数组空间，并将原数组空间中元素复制到新数组空间的对应位置"
   ]
  },
  {
   "cell_type": "markdown",
   "metadata": {},
   "source": [
    "### 9.1.2 对ArrayList的迭代（利用迭代器来实现）\n",
    "在ArrayList中实现了迭代器接口 Iterable,这表明ArrayList是可以迭代的，可以使用foreach来遍历  \n",
    "实现了Iterable接口的类需要在实现一个iterator方法，这个方法会返回一个实现了Iterator接口的对象，\n",
    "而在Iterator接口中定义了三个要实现的方法\n",
    "> hasNext(),是否存在下一个元素<br>\n",
    ">Next(),返回下一个元素<br>\n",
    ">remove(),删除之前访问过的元素<br>\n",
    "\n",
    "需要注意的是: 在执行foreach迭代时(因为foreach底层是利用迭代器实现的)，不能在迭代中间调用容器的迭代器，应为这会导致容器的结构性变化 \n",
    "\n",
    "所以需要使用迭代器中实现的remove()方法来删除之前刚访问过的元素（也就是上一个next()返回的元素）"
   ]
  },
  {
   "cell_type": "code",
   "execution_count": 34,
   "metadata": {},
   "outputs": [
    {
     "name": "stdout",
     "output_type": "stream",
     "text": [
      "[0, 1, 4, 9, 16, 25, 36, 49, 64, 81, 100, 121, 144, 169, 196, 225, 256, 289, 324, 361]\n",
      "[]\n"
     ]
    }
   ],
   "source": [
    "ArrayList<Integer> list2 = new ArrayList<>();\n",
    "for(int i=0;i<array_a.length;i++) list2.add(i*i);\n",
    "System.out.println(list2);\n",
    "//for(Integer s:list2) list2.remove(s); //\n",
    "Iterator iter = list2.iterator();\n",
    "while(iter.hasNext()){\n",
    "    iter.next();\n",
    "    iter.remove();\n",
    "}\n",
    "System.out.println(list2);"
   ]
  },
  {
   "cell_type": "markdown",
   "metadata": {},
   "source": [
    "#### 9.1.5 ArrayList的其他一些方法\n",
    "\n",
    "<b>构造方法</b>  \n",
    "    \n",
    "比如ArrayList中的构造方法，ArrayList和数组之间的转换  \n",
    "ArrayList类有三个构造方法，除了默认new ArrayList<>()方法  \n",
    "还可以指定初始化的ArrayList内部数组的长度 new ArrayList<>(initCapacity)  \n",
    "以及利用一个已有的Collection来构建一个新的ArrayList"
   ]
  },
  {
   "cell_type": "code",
   "execution_count": 36,
   "metadata": {},
   "outputs": [
    {
     "name": "stdout",
     "output_type": "stream",
     "text": [
      "利用第一种构造方法创建的ArrayList对象list1长度为:0\n",
      "利用第二种方法构造的ArrayList对象list2的长度为:0\n",
      "[0, 1, 4, 9, 16, 25, 36, 49, 64, 81]\n"
     ]
    }
   ],
   "source": [
    "import java.util.LinkedList;\n",
    "\n",
    "ArrayList<Integer> list1 = new ArrayList<>(); //无参数的构造方法\n",
    "System.out.println(\"利用第一种构造方法创建的ArrayList对象list1长度为:\"+list1.size());\n",
    "ArrayList<Integer> list2 = new ArrayList<>();\n",
    "System.out.println(\"利用第二种方法构造的ArrayList对象list2的长度为:\"+list2.size());\n",
    "LinkedList<Integer> link1 = new LinkedList<>();\n",
    "for(int i=0;i<10;i++)link1.add(i*i);\n",
    "ArrayList<Integer> list3 = new ArrayList<>(link1); //利用第三中构造方法创建的ArrayList，将传入的集合中的元素复制到新的ArrayList中\n",
    "System.out.println(list3);"
   ]
  },
  {
   "cell_type": "markdown",
   "metadata": {},
   "source": [
    "<b>ArrayList和数组之间相互转换的方法</b>\n",
    "\n",
    "在ArrayList中有两个方法可以返回数组，方法名都是toArray()，返回的数组都是ArrayList的拷贝。不同的是一个放回Object数组，一个是返回对应类型的数组(使用泛型来实现的)  \n",
    "第一种犯法：public Object[] toArray()\n",
    "第二种方法: 利用泛型实现，public <T> T[] toArray(T[] a)  \n",
    "    需要注意，<b>对于第二种方法，输入的数组参数a的长度必须大于等于ArrayList的长度，否则会返回一个新建的数组</b>"
   ]
  },
  {
   "cell_type": "code",
   "execution_count": 60,
   "metadata": {},
   "outputs": [
    {
     "name": "stdout",
     "output_type": "stream",
     "text": [
      "[0, 1, 4, 9, 16, 25, 36, 49, 64, 81]\n"
     ]
    },
    {
     "data": {
      "text/plain": [
       "[null, null, null, null]"
      ]
     },
     "execution_count": 60,
     "metadata": {},
     "output_type": "execute_result"
    }
   ],
   "source": [
    "Object[] array1 = list3.toArray(); //第一种将ArrayList转换为数组的方法\n",
    "System.out.println(Arrays.toString(array1));\n",
    "\n",
    "Integer[] array2 = new Integer[4]; //如果给定的数组长度小于ArrayList中元素个数，会出现异常，必须保证声明的数组长度都不小于元素个数\n",
    "list3.toArray(array2);\n",
    "Arrays.toString(array2)"
   ]
  },
  {
   "cell_type": "markdown",
   "metadata": {},
   "source": [
    "将给定的数组转换为一个ArrayList对象，可以使用Arrays类中的静态方法asList()来实现\n",
    "需要注意:  \n",
    ">asList()方法将传入的数组作为List内部的数组，并没有发生拷贝，如果修改外部的这个数组，那么对应List对象也会改变  \n",
    ">为了能够获得一个独立与传入数组的ArrayList对象，可以将生成的这个List内部对象作为ArrayList的第三中构造方法的输入参数，获得一个新的ArrayList"
   ]
  },
  {
   "cell_type": "code",
   "execution_count": 15,
   "metadata": {},
   "outputs": [
    {
     "name": "stdout",
     "output_type": "stream",
     "text": [
      "List对象为:[1, 2, 3, 4]\n",
      "数组对象为:[1, 2, 3, 4]\n",
      "ArrayList对象为:[1, 2, 3, 4]\n",
      "修改后的数组a:[1, 2, 3, 10]\n",
      "list对象:[1, 2, 3, 10]\n",
      "ArrayList对象为:[1, 2, 3, 4]\n"
     ]
    }
   ],
   "source": [
    "Integer[] a = {1,2,3,4};\n",
    "List<Integer> list = Arrays.asList(a); //将数组对象转换为List对象\n",
    "ArrayList<Integer> new_list = new ArrayList<>(Arrays.asList(a)); //获取独立于数组a的ArrayList\n",
    "System.out.println(\"List对象为:\"+list);\n",
    "System.out.println(\"数组对象为:\"+Arrays.toString(a));\n",
    "System.out.println(\"ArrayList对象为:\"+new_list);\n",
    "//修改数组内容，对应的list对象也会发生改变\n",
    "a[3] = 10;\n",
    "System.out.println(\"修改后的数组a:\"+Arrays.toString(a));\n",
    "System.out.println(\"list对象:\"+list);\n",
    "System.out.println(\"ArrayList对象为:\"+new_list); //ArrayList没有因为数组改变而改变\n",
    "\n"
   ]
  },
  {
   "cell_type": "markdown",
   "metadata": {},
   "source": [
    "### 9.2 剖析LinkedList\n",
    "\n",
    "LinkedList是一个双向链表  \n",
    "LinkedList类实现了List接口，以及Deque和Queue接口，也就是说LinkedList类可以按照队列和双端队列的方式操作  \n",
    "\n",
    "#### 9.2.1 LinkedList类的常见用法:  \n",
    "1. 构造方法:  \n",
    "两种构造方法，一种无参数，一种是将一个Collection集合作为参数\n",
    "2. 与ArrayList类似的方法:  \n",
    "LinkedList同样实现了Collection接口，同样有类似的方法以及迭代器方法，但是内部的实现原理有所不同  \n",
    "LinkedList实现了Queue接口，具有先进先出的方法，头部删除，尾部添加。\n",
    "Queue接口实现了一下操作：  \n",
    ">在队尾添加元素，(add,offer)  \n",
    ">在队头删除元素，(remove,poll)  \n",
    ">查看头部元素，(element,peek)\n",
    "\n",
    "每种操作都有两种实现方式，区别是对特殊情况的处理不同，第一种方法会返回异常，而第二种方法，当队列为空时，返回null,队列满时返回false  \n",
    "第二种处理方法方便用于进行条件判断\n",
    "同样可以使用LinkedList来实现栈数据结构，java中没有专门的栈接口，但是利用Deque双端队列接口可以实现栈（先进后出）\n",
    "栈的操作主要有三个:  \n",
    "\n",
    ">出栈操作，pop()  \n",
    ">入栈操作，push()  \n",
    ">查看栈顶元素,peek()  \n",
    "\n",
    "**因为LinkedList实现了Deque接口，所以可以将LinkedList看作队列，双端队列，栈**"
   ]
  },
  {
   "cell_type": "code",
   "execution_count": 36,
   "metadata": {},
   "outputs": [
    {
     "name": "stdout",
     "output_type": "stream",
     "text": [
      "[We, Are, The, World]\n",
      "\n",
      "队列queue_list中的元素:[3, 4, 7, 12, 19]\n",
      "查看队列queue_list头部的元素:3\n",
      "删除queue_list队列的队头元素:3\n",
      "队列queue_list中的元素:[4, 7, 12, 19]\n",
      "\n",
      "[A0, A1, A2, A3, A4, A5, A6, A7, A8, A9]\n",
      "栈顶元素为:A0\n",
      "弹出的栈顶的元素为:A0\n",
      "[A1, A2, A3, A4, A5, A6, A7, A8, A9]\n"
     ]
    }
   ],
   "source": [
    "import java.util.LinkedList;\n",
    "String[] strs = {\"We\",\"Are\",\"The\",\"World\"};\n",
    "//两种构造方法\n",
    "List<String> str_list = new LinkedList<>();\n",
    "List<String> str_list_2 = new LinkedList<>(Arrays.asList(strs));\n",
    "System.out.println(str_list_2);\n",
    "System.out.println();\n",
    "//队列操作\n",
    "Queue<Integer> queue_list = new LinkedList<>();\n",
    "//利用offer向队尾中添加元素\n",
    "for(int i=0;i<5;i++) queue_list.offer(i*i+3);\n",
    "System.out.println(\"队列queue_list中的元素:\"+queue_list);\n",
    "System.out.println(\"查看队列queue_list头部的元素:\"+queue_list.peek());\n",
    "//利用poll删除队头元素\n",
    "System.out.println(\"删除queue_list队列的队头元素:\"+queue_list.poll());\n",
    "System.out.println(\"队列queue_list中的元素:\"+queue_list);\n",
    "\n",
    "System.out.println();\n",
    "//栈操作\n",
    "\n",
    "Deque<String> stack_list = new LinkedList<>();\n",
    "//元素入栈操作push\n",
    "for(int i=0;i<10;i++) stack_list.add(\"A\"+i);\n",
    "System.out.println(stack_list);\n",
    "//查看栈顶元素\n",
    "System.out.println(\"栈顶元素为:\"+stack_list.peek());\n",
    "//弹出栈顶元素\n",
    "System.out.println(\"弹出的栈顶的元素为:\"+stack_list.pop());\n",
    "System.out.println(stack_list)"
   ]
  },
  {
   "cell_type": "markdown",
   "metadata": {},
   "source": [
    "#### 9.2.2 LinkedList的实现原理\n",
    "\n",
    "LinkedList的内部是由不连续存放的节点Node组成，在**内部实现为双向链表**  \n",
    "在LinkedList类中，节点Node为一个内部类，包含三个属性，实际的元素值，指向前一个节点的指针和指向后一个节点的指针  \n",
    "linkedList类中包含三个属性，链表的头结点first，尾结点last,链表长度size\n",
    "**一些方法的实现**  \n",
    "1. linkedList中的元素插入方法，add(int index,E e)在某个位置来插入参数，使用的是前插法，就是插在指定位置节点和前驱节点中间\n",
    "2. 获取指定位置的元素方法get(int index),因为LinkedList是一个双端队列，如果查找位置在前半部分，就从头向后查，如果在后半部分，就从后先前查\n",
    "\n",
    "\n",
    "#### 9.2.3 LinkedList类的特点\n",
    ">存储空间按需分配，不会预分配空间，节省了空间  \n",
    ">存储空间不连续，无法随机访问，只能顺序访问，时间复杂度O(N)  \n",
    ">插入元素时，需要查找插入的位置，时间复杂度为O(N),但是插入或者删除操作复杂度为O(1)\n",
    "\n",
    "LinkedList和ArrayList互有特点"
   ]
  },
  {
   "cell_type": "markdown",
   "metadata": {},
   "source": [
    "### 9.3 剖析ArrayDeque类\n",
    "ArrayDeque为双向数组队列（**内部使用动态数组来表示双向队列**）\n",
    "实际上，ArrayDeque在内部实现了一个**循环数组**，从能能够快速的对队头和队尾的元素进行操作  \n",
    "ArrayDeque类实现了Deque接口，所以也会实现相关的访问方法(**队列的方法，栈的方法**)\n",
    "\n",
    "ArrayDeque没有实现RandomAccess接口，所以无法通过索引进行访问\n",
    "#### 9.3.1 ArrayDeque的实现原理\n",
    "ArrayDeque内部是一个循环数组（也称为**循环队列**），包括一个内部数组变量和指示数组头和数组尾的变量head，tail  \n",
    "当head == tail时，表示现在循环数组已经满了，需要扩容。如果head \n",
    "1. 构造方法，三个构造方法，带参数和不带参数两种，还有以其他集合类为参数的构造方法"
   ]
  },
  {
   "cell_type": "code",
   "execution_count": 8,
   "metadata": {},
   "outputs": [
    {
     "name": "stdout",
     "output_type": "stream",
     "text": [
      "[0, 1, 4, 9, 16, 25, 36, 49]\n",
      "[16, 25, 36, 49]\n",
      "[16, 25, 36, 49, 0]\n",
      "[16, 25, 36, 49, 0, -1]\n",
      "[16, 25, 36, 49, 0, -1, -4]\n",
      "[16, 25, 36, 49, 0, -1, -4, -9]\n",
      "[16, 25, 36, 49, 0, -1, -4, -9, -16]\n",
      "[16, 25, 36, 49, 0, -1, -4, -9, -16, -25]\n",
      "[16, 25, 36, 49, 0, -1, -4, -9, -16, -25, -36]\n",
      "[16, 25, 36, 49, 0, -1, -4, -9, -16, -25, -36, -49]\n",
      "[16, 25, 36, 49, 0, -1, -4, -9, -16, -25, -36, -49, -64]\n",
      "[16, 25, 36, 49, 0, -1, -4, -9, -16, -25, -36, -49, -64, -81]\n"
     ]
    }
   ],
   "source": [
    "import java.util.ArrayDeque;\n",
    "\n",
    "ArrayDeque queue = new ArrayDeque(8);\n",
    "for(int i=0;i<8;i++) queue.add(i*i);\n",
    "System.out.println(queue);\n",
    "for(int i=0;i<4;i++) queue.poll();\n",
    "System.out.println(queue);\n",
    "for(int i=0;i<10;i++){\n",
    "    queue.offer(-i*i);\n",
    "    System.out.println(queue);\n",
    "}\n",
    "//System.out.println(queue);"
   ]
  },
  {
   "cell_type": "markdown",
   "metadata": {},
   "source": [
    "## Map和Set\n",
    "\n",
    "List的查找效率比较低，需要对按元素逐个比较。  \n",
    "而使用Map和Set，可以实现比较高效的查找\n",
    "Map接口，键值对集合，他的实现类有HashMap,TreeMap,LinkedHashMap,EnumMap\n",
    "Set接口，存储不重复的无序元素集合，他的实现类有HashSet,TreeSet,LinkedListSet,EnumSet\n",
    "\n",
    "### 10.1 剖析HashMap\n",
    "HashMap是利用Hash的方法实现了Map接口。Map接口实际上就是一个表示映射关系的接口。  \n",
    "\n",
    "#### 10.1.1 Map接口\n",
    "Map可以看成是一个键值对<K,V>的集合，一个键K映射到一个值V,但是Map中的键不能重复。\n",
    "\n",
    "Map接口中定义的方法包括：  \n",
    ">put(key,value) 将键值对（key,value）加入Map中,返回九值\n",
    ">get(key), 获取键key对应的值  \n",
    ">remove(key),根据给定的键key删除map中的键值对  \n",
    ">size() 返回Map中键值对的个数  \n",
    ">isEmpty() 判断Map是否为空\n",
    ">containsKey(key),containsValue(value),分别表示是否包含对应的键key和值value  \n",
    ">clear() 清空Map中所有的键值对  \n",
    ">keySet()，返回Map中所有的键构成的Set集合  \n",
    ">values(), 返回Map中所有的值构成的Set集合  \n",
    ">Set<Map.Entry<K,V>> entrySet()，返回Map中所有键值对构成的Set集合\n",
    "\n",
    "**需要注意的是，对于keySet(),values(),entrySet()，他们返回的是Map的视图，对他们进行修改会导致Map也发生修改**\n",
    "\n",
    "#### 10.1.2 hashMap类\n",
    "\n",
    "1. hashMap的构造方法:  四种构造方法，默认的构造方法，带有初始容量的构造方法，带有初始容量和加载因子的构造方法，将其他Map作为输入的构造方法\n"
   ]
  },
  {
   "cell_type": "code",
   "execution_count": 19,
   "metadata": {},
   "outputs": [
    {
     "name": "stdout",
     "output_type": "stream",
     "text": [
      "[0=279, 1=231, 2=233, 3=257]\n",
      "{0=279, 1=231, 2=233, 3=257}\n"
     ]
    }
   ],
   "source": [
    "//利用hashMap来统计生成的随机数的频率\n",
    "import java.util.Random;\n",
    "import java.util.Map;\n",
    "import java.util.HashMap;\n",
    "import java.util.Set;\n",
    "Random rand = new Random();\n",
    "Map<Integer,Integer> map = new HashMap<>();\n",
    "\n",
    "for(int i=0;i<1000;i++){\n",
    "    int d = rand.nextInt(4);\n",
    "    Integer count = map.get(d);\n",
    "    if(count == null){//当前map中没有d对应的键,也就是还没记录这个数字d出现的频率\n",
    "        map.put(d,1);\n",
    "    }else{\n",
    "        map.put(d,count+1);\n",
    "    }\n",
    "}\n",
    "Set<Map.Entry<Integer,Integer>> s = map.entrySet();\n",
    "System.out.println(s);\n",
    "System.out.println(map);"
   ]
  },
  {
   "cell_type": "code",
   "execution_count": 43,
   "metadata": {},
   "outputs": [
    {
     "name": "stdout",
     "output_type": "stream",
     "text": [
      "映射Map是否为空:true\n",
      "map的键值对个数为:26\n",
      "map中的键值对:{0=A, 1=B, 2=C, 3=D, 4=E, 5=F, 6=G, 7=H, 8=I, 9=J, 10=K, 11=L, 12=M, 13=N, 14=O, 15=P, 16=Q, 17=R, 18=S, 19=T, 20=U, 21=V, 22=W, 23=X, 24=Y, 25=Z}\n",
      "获取键10对应的值:K\n",
      "map中所有的键构成的集合:[0, 1, 2, 3, 4, 5, 6, 7, 8, 9, 10, 11, 12, 13, 14, 15, 16, 17, 18, 19, 20, 21, 22, 23, 24, 25]\n",
      "map中所有的值构成的集合:[A, B, C, D, E, F, G, H, I, J, K, L, M, N, O, P, Q, R, S, T, U, V, W, X, Y, Z]\n",
      "{0=A, 2=C, 3=D, 4=E, 5=F, 6=G, 7=H, 8=I, 9=J, 10=K, 11=L, 12=M, 13=N, 14=O, 15=P, 16=Q, 17=R, 18=S, 19=T, 20=U, 21=V, 22=W, 23=X, 24=Y, 25=Z}\n"
     ]
    }
   ],
   "source": [
    "//hashMap的常见方法\n",
    "import java.util.Map;\n",
    "import java.util.HashMap;\n",
    "import java.util.Set;\n",
    "import java.util.Collection;\n",
    "\n",
    "Map<Integer,Character> map = new HashMap<>();\n",
    "System.out.println(\"映射Map是否为空:\"+map.isEmpty());\n",
    "for(int i=0;i<26;i++){\n",
    "    char c = (char)('A'+i);\n",
    "    map.put(i,c); //向map中添加键值对\n",
    "}\n",
    "System.out.println(\"map的键值对个数为:\"+map.size());\n",
    "System.out.println(\"map中的键值对:\"+map);\n",
    "System.out.println(\"获取键10对应的值:\"+map.get(10));\n",
    "Set<Integer> keys = map.keySet();\n",
    "System.out.println(\"map中所有的键构成的集合:\"+keys);\n",
    "Collection<Character> values = map.values();\n",
    "System.out.println(\"map中所有的值构成的集合:\"+values);\n",
    "keys.remove(1); //对keySet进行修改，会导致Map也发生改变\n",
    "System.out.println(map);"
   ]
  },
  {
   "cell_type": "markdown",
   "metadata": {},
   "source": [
    "#### 10.1.3 HashMap的实现原理\n",
    "\n",
    "HashMap的内部实例变量包括：\n",
    "1. Node<K,V>[] tables,  \n",
    "哈希桶数组(哈希表),使用**拉链法来解决哈希冲突**。这是一个Node数组，每个Node(每个Node也相当于单向链表中的第一个键值对)对应着一个键，指向一个单向链表，链表中的每个节点对应一个键值对，**在同一条链表上的节点对应的键值对的键是相同的，只是对应的值不同**  \n",
    "每个Node节点包含四个实例，hash值（对应key键的hash值），key键，value值，next指向下一个Node节点\n",
    "![image.png](attachment:image.png)\n",
    "\n",
    "哈希桶数组在第一次使用时，默认的长度为16，并且在扩充时长度总是为2的次幂，扩充的时机和变量threshold相关。如果给定的长度不是2的次幂，会将其调整为大于且最靠近的2的次幂\n",
    "\n",
    "2. threshold = capacity\\*loadFactor ，loadFctor代表加载因子（表示键值对个数与table长度的比值),默认值为0.75  \n",
    "阈值threshold变量，如果键值对的个数大于等于threshold时进行扩展。\n",
    "\n",
    "**影响HashMap性能的参数主要有两个，初始容量initCapacity和加载因子loadFactory**  \n",
    "\n",
    "HashMap的构造方法: \n",
    "1. 默认的构造方法,给定的初始容量为16,加载因子为0.75\n",
    "2. 可以自行设置初始容量和加载因子\n",
    "**如果设置的初始容量不为2的次幂，需要重新设置容量**\n",
    "\n",
    "将键值对保存在HashMap中(put(key,value)方法)\n",
    "\n",
    "```java\n",
    "public V put(K key, V value) {\n",
    "  // 将 key 的 hashCode 散列\n",
    "  return putVal(hash(key), key, value, false, true);\n",
    "}\n",
    "final V putVal(int hash, K key, V value, boolean onlyIfAbsent, boolean evict) {\n",
    "  Node<K,V>[] tab; Node<K,V> p; int n, i;\n",
    "  // 1. table 为 null或者哈希桶数组长度为空，初始化哈希桶数组\n",
    "  if ((tab = table) == null || (n = tab.length) == 0)\n",
    "    n = (tab = resize()).length; //resize()函数，对哈希桶扩容\n",
    "  // 2. 计算对应的数组下标 (n - 1) & hash,这里因为hash表的长度为2的次幂，所以key的hash值对n-1求交，相当于取余。hash&(n-1) == hash%(n-1)\n",
    "  if ((p = tab[i = (n - 1) & hash]) == null)\n",
    "    // 3. 这个槽还没有插入过数据，直接插入\n",
    "    tab[i] = newNode(hash, key, value, null);\n",
    "  else {\n",
    "    Node<K,V> e; K k;\n",
    "    // 4. 节点 key 存在，直接覆盖 value\n",
    "    if (p.hash == hash && ((k = p.key) == key || (key != null && key.equals(k))))//hash值相同，并且key值也相同，直接覆盖\n",
    "      e = p;\n",
    "    // 5. 该链转成了红黑树\n",
    "    else if (p instanceof TreeNode) // 在树中插入\n",
    "      e = ((TreeNode<K,V>)p).putTreeVal(this, tab, hash, key, value);\n",
    "    // 6. 该链是链表\n",
    "    else {\n",
    "      for (int binCount = 0; ; ++binCount) {\n",
    "        // 遍历找到尾节点插入\n",
    "        if ((e = p.next) == null) {\n",
    "          p.next = newNode(hash, key, value, null);\n",
    "          // 链表长度大于 8 转为红黑树\n",
    "          if (binCount >= TREEIFY_THRESHOLD - 1) // -1 for 1st\n",
    "            treeifyBin(tab, hash);\n",
    "          break;\n",
    "        }\n",
    "        // 遍历的过程中，遇到相同 key 则覆盖 value\n",
    "        if (e.hash == hash && ((k = e.key) == key || (key != null && key.equals(k)))) //hash值相同，并且key值也相同，直接覆盖\n",
    "          break;\n",
    "        p = e;\n",
    "      }\n",
    "    }\n",
    "    if (e != null) { // existing mapping for key\n",
    "      V oldValue = e.value;\n",
    "      if (!onlyIfAbsent || oldValue == null)\n",
    "        e.value = value;\n",
    "      afterNodeAccess(e);\n",
    "      return oldValue;\n",
    "    }\n",
    "  }\n",
    "  ++modCount;\n",
    "  // 7. 超过最大容量，扩容\n",
    "  if (++size > threshold)\n",
    "    resize();\n",
    "  afterNodeInsertion(evict);\n",
    "  return null;\n",
    "}\n",
    "```\n",
    "\n",
    "**在jdk8中，向链表中插入节点采用的是尾插法，并且如果链表的长度大于8，会将链表转换为红黑树，来加快查找的效率**\n",
    "\n",
    "JDK8 中的 HashMap 代码还是比较复杂的，优化方面主要有以下三点：\n",
    "\n",
    ">优化 hash 算法只进行一次位移操作  \n",
    ">引入红黑树，在冲突比较严重的情况下，将 get 操作的时间复杂从 O(n) 降为了 O(logn)  \n",
    ">扩容时，利用 2 的次幂数值的二进制特点，既省去重新计算 hash 的时间，又把之前冲突的节点散列到了其他位置  \n",
    ">此外，HashMap 是非线程安全的，线程间的竞争条件主要是发生冲突或扩容时，链表的断链和续链操作。扩容也就意味着内存拷贝，这是一个很耗费性能>  的操作，所以预分配一个足够大的初始容量，减少扩容的次数，能够让 HashMap 有更好的表现。  \n",
    "\n",
    "Map中的key元素必须实现了equals()方法和hashCode()方法"
   ]
  },
  {
   "cell_type": "code",
   "execution_count": 62,
   "metadata": {},
   "outputs": [
    {
     "data": {
      "text/plain": [
       "655360"
      ]
     },
     "execution_count": 62,
     "metadata": {},
     "output_type": "execute_result"
    }
   ],
   "source": [
    "int cap = 16;\n",
    "int x=(-1)>>>Integer.numberOfLeadingZeros(cap-1)+1; //numberOfLeadingZeros，返回非符号整数最高非零位前面的零的个数(包括符号位)"
   ]
  },
  {
   "cell_type": "markdown",
   "metadata": {},
   "source": [
    "**使用迭代器来遍历HashMap**\n",
    "\n",
    "要像遍历HashMap中的键值对，需要使用HashMap内部定义的实体集合 **Set<Map.Entry<K,V>> EntrySet**\n",
    "使用迭代器对HashMap变量实际上是对EntrySet遍历\n",
    "\n",
    "具体的方法：首先获取一个实体集合中的迭代器,myMap.entrySet().iterator()\n",
    "然后每个迭代的返回的元素类型为Map.Entry<K,V>"
   ]
  },
  {
   "cell_type": "code",
   "execution_count": 75,
   "metadata": {},
   "outputs": [
    {
     "name": "stdout",
     "output_type": "stream",
     "text": [
      "0\n",
      "1\n",
      "4\n",
      "9\n",
      "16\n",
      "25\n",
      "36\n",
      "49\n",
      "64\n",
      "81\n"
     ]
    }
   ],
   "source": [
    "HashMap<Integer,Integer> myMap = new HashMap<>();\n",
    "for(int i=0;i<10;i++) myMap.put(i,i*i);\n",
    "Iterator iter = myMap.entrySet().iterator();\n",
    "while(iter.hasNext()){\n",
    "    Map.Entry<Integer,Integer> e = (Map.Entry)iter.next();\n",
    "    System.out.println(e.getValue());\n",
    "}"
   ]
  },
  {
   "cell_type": "markdown",
   "metadata": {},
   "source": [
    "### 10.2 剖析HashSet\n",
    "\n",
    "#### 10.2.1 Set接口\n",
    "Set表示没有重复元素，不保证顺序的容器接口，Set接口继承了Collection接口，也声明对应的方法  \n",
    "HashSet实现了Set接口 \n",
    "\n",
    "与HashMap类似，HashSet也有三种构造方法，initCapacity和loadFactor的含义也是相同的(表示初始容量和加载因子)\n",
    "HashSet要求写入的元素要重写hashCode()和equals()方法，拨正对于两个对象，如果他们的equals相同，那么hashCode也相同(反过来不需要,因为允许冲突)  \n",
    "\n",
    "HashSet的一些应用场景:\n",
    "> 排重，因为将相同的元素写入HashSet，只会保留一个元素，所以在没有顺序要求时，可以使用HashSet来排除重复元素  \n",
    ">保存特殊值  \n",
    ">进行集合运算  \n",
    "\n",
    "#### 10.2.2 HashSet的实现原理\n",
    "HashSet内部是使用一个HashMap来实现的，元素表示成HashMap的键，而对应的值全部为一个固定值  \n",
    "hashSet的add方法，如果添加的元素在HashSet中已经存在了，就返回false\n",
    "\n",
    "#### 10.2.3 HashSet的特点\n",
    "1. 没有重复元素  \n",
    "2. 高效的添加和删除元素，时间复杂度为O(1)\n",
    "3. HashSet中的元素没有顺序(之后的TreeSet，可以排序，LinkedHashSet以元素添加次序为序"
   ]
  },
  {
   "cell_type": "code",
   "execution_count": 80,
   "metadata": {},
   "outputs": [
    {
     "data": {
      "text/plain": [
       "false"
      ]
     },
     "execution_count": 80,
     "metadata": {},
     "output_type": "execute_result"
    }
   ],
   "source": [
    "import java.util.HashSet;\n",
    "\n",
    "HashSet<Integer> mySet = new HashSet<>();\n",
    "mySet.add(1);\n",
    "mySet.add(2);\n",
    "mySet.add(1)"
   ]
  },
  {
   "cell_type": "markdown",
   "metadata": {},
   "source": [
    "### 10.2.3 剖析TreeMap\n",
    "\n",
    "在TreeMap中，键值对之间是有序的(按照键来进行排序),而TreeMap的底层是利用红黑树(一种平衡二叉树)来实现的  \n",
    "TreeMap的构造方法有四种: \n",
    "1. TreeMap()， 这种默认的构造方法，要求Map中的键要实现Comparable接口，在内部比较时，调用键的compareTo()方法  \n",
    "2. TreeMap(Comparator<? extends K> comparator)，这种构造方法接收一个比比较器对象，在内部比较时，调用comparator的compare()方法来进行比较，不要求键实现 Comparable接口\n",
    "3. 还有两个构造方法都是将另一个Map对象作为参数传入，一个是传入普通的Map对象，兵器Map中的键要实现Comparable()接口。另一个是传入TreeMap对象，必然是已排序的，直接调用SortedMap的比较器comparator()"
   ]
  },
  {
   "cell_type": "code",
   "execution_count": 49,
   "metadata": {},
   "outputs": [
    {
     "name": "stdout",
     "output_type": "stream",
     "text": [
      "{a=2, Zoo=3, Hello=1}\n",
      "{Hello=1, Zoo=3, a=2}\n"
     ]
    }
   ],
   "source": [
    "import java.util.TreeMap;\n",
    "\n",
    "Map<String,String> myMap = new TreeMap<>((o1,o2)->{return o2.compareTo(o1);});\n",
    "\n",
    "myMap.put(\"Hello\",\"1\");\n",
    "myMap.put(\"a\",\"2\");\n",
    "myMap.put(\"Zoo\",\"3\");\n",
    "System.out.println(myMap);\n",
    "Map<String,String> otherMap = new TreeMap<>(myMap);\n",
    "System.out.println(otherMap);\n"
   ]
  },
  {
   "cell_type": "markdown",
   "metadata": {},
   "source": [
    "#### TreeMap 的实现原理"
   ]
  },
  {
   "cell_type": "code",
   "execution_count": null,
   "metadata": {},
   "outputs": [],
   "source": []
  },
  {
   "cell_type": "markdown",
   "metadata": {},
   "source": [
    "TreeMap的内部成员包括三个:\n",
    "> Comparator<? extends K> **comparator**,比较器，用来对键进行排序的  \n",
    "> Entry<K,V> **root**，root表示存储Map数据的红黑树的根节点，Entry<K,V>表示的是树的节点类型,每个树节点包括key(键),value(值),left,right,parent,分别表示指向左右孩子和父节点的指针，color表示该节点的颜色属性  \n",
    "> **size**,表示键值对的数目\n",
    "\n",
    "**TreeMap中的put方法:**\n",
    "首先，put分为三种情况\n",
    "1. 如果红黑树为空，也就是当前没有键值对，那么插入的key,value作为根结点\n",
    "2. 红黑树不为空，根据键key的值来进行操作，基于排序树的性质，key<根去左子树找，key>根去右子树找，如果key=根，表示当前键key已经在红黑树中了，直接更新对应的值value\n",
    "3. 如果没有与key相同的节点，肯定已经找到了对应的插入位置的父节点，这是根据key和父节点的key的大小关系确定是插入为左子树还是插入为右子树在插入后，还要对红黑树进行调整(调整算法，变色，左旋，右旋)，保持红黑树的平衡\n",
    "\n",
    "**TreeMap的查找方法:**\n",
    "TreeMap的按照键key查找方法与二叉排序树的查找相同，通过比较键值的大小来去不同的子树中去查找  \n",
    "但是如果想要查找某一个值对应的节点，需要进行遍历，时间复杂度为O(N)  \n",
    "\n",
    "**TreeMap的删除方法:**\n",
    "1. 首先要查找到给定的删除元素，这里也是使用的查找算法。  \n",
    "2. 找到删除的节点后，要根据节点的子节点数目来判断如何删除，没有子节点，直接删除；一个子节点，和子节点替换；两个子节点，和后继节点替换。 \n",
    "3. 三种情况都可以通过转换为第一种情景，但是删除替换节点之前，要先对树进行平衡.\n",
    "4. 在平衡完成后，将替换节点和删除节点数据交换，然后删除替换节点。\n",
    "\n",
    "\n",
    "#### TreeMap的特性\n",
    "1) 按键有序，  \n",
    "2) 存入TreeMap中的键值对的键需要实现Comparable接口，或者在构造的时候传入一个Comparator比较器对象  \n",
    "3) 利用键进行保存，查找，删除的时间复杂度为O(h)=O(logN),h表示红黑树的高度  \n",
    "4) 在要求排序时，优先使用TreeMap\n",
    "\n",
    "\n",
    "\n",
    "\n",
    "\n"
   ]
  },
  {
   "cell_type": "markdown",
   "metadata": {},
   "source": [
    "### 10.2.4 剖析TreeSet\n",
    "\n",
    "类似于HashMap和HashSet  \n",
    "TreeSet是基于TreeMap实现的，内部是用一个TreeMap来保存TreeSet  \n",
    "TreeSet内保存的元素是 **有序，排重的**"
   ]
  },
  {
   "cell_type": "code",
   "execution_count": 5,
   "metadata": {},
   "outputs": [
    {
     "data": {
      "text/plain": [
       "[hello, a, World, Hello, B]"
      ]
     },
     "execution_count": 5,
     "metadata": {},
     "output_type": "execute_result"
    }
   ],
   "source": [
    "import java.util.TreeSet;\n",
    "String[] strs = {\"Hello\",\"hello\",\"Hello\",\"World\",\"a\",\"B\"};\n",
    "Set<String> mySet = new TreeSet<>((o1,o2)->{return o2.compareTo(o1);});\n",
    "mySet.addAll(Arrays.asList(strs));\n",
    "mySet"
   ]
  },
  {
   "cell_type": "markdown",
   "metadata": {},
   "source": [
    "\n",
    "\n",
    "\n",
    "**下面这个是模拟的给定树中每个节点的父节点，左右孩子节点，如何找到每个节点在中序遍历中的后继节点**\n",
    "\n",
    "这个对在排序二叉树中，查找每个节点的后一个节点的算法有关系"
   ]
  },
  {
   "cell_type": "code",
   "execution_count": 67,
   "metadata": {},
   "outputs": [
    {
     "name": "stdout",
     "output_type": "stream",
     "text": [
      "节点U的父节点为:null.左孩子为:P.右孩子为:right\n",
      "节点P的父节点为:U.左孩子为:K.右孩子为:right\n",
      "节点Y的父节点为:U.左孩子为:null.右孩子为:right\n",
      "节点K的父节点为:P.左孩子为:D.右孩子为:right\n",
      "节点R的父节点为:P.左孩子为:null.右孩子为:right\n",
      "节点D的父节点为:K.左孩子为:null.右孩子为:right\n",
      "节点M的父节点为:K.左孩子为:null.右孩子为:right\n",
      "节点U的后继结点为:Y\n",
      "节点P的后继结点为:R\n",
      "节点Y的后继结点为:null\n",
      "节点K的后继结点为:M\n",
      "节点R的后继结点为:U\n",
      "节点D的后继结点为:K\n",
      "节点M的后继结点为:P\n"
     ]
    }
   ],
   "source": [
    "class TreeNode{\n",
    "    String value;\n",
    "    TreeNode left; //左指针，右指针，父节点指针\n",
    "    TreeNode right;\n",
    "    TreeNode parent;\n",
    "    public TreeNode(String value,TreeNode left,TreeNode right,TreeNode parent){\n",
    "        this.value = value;\n",
    "        this.left = left;\n",
    "        this.right = right;\n",
    "        this.parent = parent;\n",
    "    }\n",
    "}\n",
    "\n",
    "static String[] values = {\"U\",\"P\",\"Y\",\"K\",\"R\",null,null,\"D\",\"M\"};\n",
    "//构建一棵树\n",
    "TreeNode[] tree = new TreeNode[values.length];\n",
    "for(int i=values.length-1;i>=0;i--){\n",
    "    if(values[i] == null){\n",
    "        tree[i] = null;\n",
    "    }else{        \n",
    "        int j = 2*i+1;\n",
    "        TreeNode left,right;\n",
    "        if(j<values.length)left = tree[j];\n",
    "        else left =null;\n",
    "        if(j+1<values.length) right = tree[j+1];\n",
    "        else right = null;\n",
    "        tree[i] = new TreeNode(values[i],left,right,null);\n",
    "    }\n",
    "}\n",
    "\n",
    "for(int i=0;i<values.length;i++){\n",
    "    if(tree[i]!=null){\n",
    "        int j = (i-1)/2;\n",
    "        if(i==0) tree[i].parent = null;\n",
    "        else{\n",
    "            tree[i].parent = tree[j];\n",
    "        }\n",
    "    }\n",
    "}\n",
    "\n",
    "for(TreeNode node:tree){\n",
    "    if(node !=null){\n",
    "        String left = node.left==null?\"null\":node.left.value;\n",
    "        String right = node.right==null?\"null\":node.right.value;\n",
    "        String parent = node.parent == null?\"null\":node.parent.value;\n",
    "        System.out.println(\"节点\"+node.value+\"的父节点为:\"+parent+\".左孩子为:\"+left+\".右孩子为:right\");\n",
    "    }\n",
    "}\n",
    "TreeNode root = tree[0]; //\n",
    "//查找某个节点在中序遍历中的的后继\n",
    "public TreeNode success(TreeNode p,TreeNode root){\n",
    "    //给定一个节点p，在树root中查找它的后继节点\n",
    "    TreeNode pp, parent;\n",
    "    if(p.right!=null){\n",
    "        pp = p.right;\n",
    "        while(pp.left!=null) pp = pp.left;\n",
    "        return pp;\n",
    "    }\n",
    "    parent = p.parent;\n",
    "    if(p == parent.left) //如果节点为父节点的左孩子，直接返回父节点\n",
    "        return parent;\n",
    "    while(parent!=root){//如果节点为父节点的右孩子，向上回溯，找到第一个为左孩子的节点（如果没有，返回null）\n",
    "        if(parent == parent.parent.left)  return parent.parent;\n",
    "        else parent = parent.parent;\n",
    "    }\n",
    "    return null;\n",
    "    \n",
    "}\n",
    "\n",
    "for(TreeNode node:tree){\n",
    "    if(node!=null){\n",
    "        TreeNode nextNode = success(node,root);\n",
    "        String next = nextNode == null?\"null\":nextNode.value;\n",
    "        System.out.println(\"节点\"+node.value+\"的后继结点为:\"+next);\n",
    "    }\n",
    "}"
   ]
  },
  {
   "cell_type": "code",
   "execution_count": 46,
   "metadata": {},
   "outputs": [
    {
     "data": {
      "text/plain": [
       "true"
      ]
     },
     "execution_count": 46,
     "metadata": {},
     "output_type": "execute_result"
    }
   ],
   "source": [
    "String s = null;\n",
    "s == null"
   ]
  },
  {
   "cell_type": "markdown",
   "metadata": {},
   "source": [
    "### 剖析LinkedHashMap\n",
    "\n",
    "LinkedHashMap是HashMap的一个子类，它可以按照元素的插入顺序或者访问顺序来有序遍历键值对,这和TreeMap的按键排序不同  \n",
    "**在LinkedHashMap内部，除了使用一个Hash表来保存键值对外，在内部还维护着一个双向链表来表示键值对的顺序**  \n",
    "LinkedHashMap支持两种顺序，数据插入顺序，数据访问顺序。\n",
    "\n",
    "1. 访问顺序:执行一次put/get操作表示一次对键值对的访问，访问一次之后，节点会被放到链表的末尾。表示最末尾的元素为最近访问的，最头的元素为最久没被访问的。**需要注意的是，LinkedHashMap提供了一个是否删除最近最久未被访问的节点的函数，来保证在特定条件下删除最近最后没被访问的节点**  \n",
    "2. 插入顺序: 元素最初的put进入Map的顺序\n",
    "\n",
    "**按插入顺序和访问顺序使用的场景:**  \n",
    "1) 对于插入顺序，使用的场景是：对于有些数据，按顺序读入，然后对数据进行处理然后再按照读入的顺序输出，这就是利用插入顺序的场景。常见的对一些配置文件的处理，配置文件中的配置项为键值对的形式，对于重复的配置项，只保留最后一项，并且按照输入的顺序输出  \n",
    "2) 对于按访问顺序处理，典型的应用场景是在缓存处理中，比如 LRU缓存算法(最近最少被使用),这是一种缓存替换算法，也就是在缓存满的时候，优先去掉最近最久没被访问过的缓存。\n",
    "LinkedHashMap的构造方法有五种:与HashMap的类似，默认无参数的，设置初始容量initCapacity，设置装载因子loadFoctor,将给定的Map对象加入到创建的LinkedHashMap中，以及最后一种构造方法指定使用访问顺序，初始容量和装载因子\n",
    "\n"
   ]
  },
  {
   "cell_type": "code",
   "execution_count": 5,
   "metadata": {},
   "outputs": [
    {
     "data": {
      "text/plain": [
       "{0=0, 2=4, 3=9, 4=16, 5=25, 6=36, 7=49, 8=64, 9=81, 1=100}"
      ]
     },
     "execution_count": 5,
     "metadata": {},
     "output_type": "execute_result"
    }
   ],
   "source": [
    "import java.util.LinkedHashMap;\n",
    "Map<Integer,Integer> hashmap = new LinkedHashMap<>(16,0.75f,true);\n",
    "for(int i=0;i<10;i++){\n",
    "    hashmap.put(i,i*i);\n",
    "}\n",
    "hashmap.put(1,100); //访问后，该键值对被放在了链表最末尾\n",
    "hashmap"
   ]
  },
  {
   "cell_type": "code",
   "execution_count": 22,
   "metadata": {},
   "outputs": [
    {
     "data": {
      "text/plain": [
       "{B=2, C=3, D=4}"
      ]
     },
     "execution_count": 22,
     "metadata": {},
     "output_type": "execute_result"
    }
   ],
   "source": [
    "//利用LinkedHashMap来实现一个基于LRU替换算法的优先缓存\n",
    "public class LRUcache<K,V> extends LinkedHashMap<K,V>{\n",
    "    int maxEntries; //缓存实体的最大个数\n",
    "    public LRUcache(int maxEntries){\n",
    "        super(16,0.75f,true); //保证cache按照访问顺序操作\n",
    "        this.maxEntries = maxEntries;\n",
    "    }\n",
    "    \n",
    "    @Override\n",
    "    protected boolean removeEldestEntry(Map.Entry<K,V> eldest){\n",
    "        return size()>maxEntries;\n",
    "    }\n",
    "    \n",
    "}\n",
    "\n",
    "LRUcache<String,Integer> myCache = new LRUcache<>(3);\n",
    "myCache.put(\"A\",1);\n",
    "myCache.put(\"B\",2);\n",
    "myCache.put(\"C\",3);\n",
    "myCache.put(\"D\",4); //超出缓存的容量，需要基于LRU算法来删除最近最就未使用的缓存实体\n",
    "myCache"
   ]
  },
  {
   "cell_type": "markdown",
   "metadata": {},
   "source": [
    "#### LinkedHashMap的实现原理\n",
    "\n",
    "#### 增删改查：\n",
    "1. 增(put):  \n",
    "在LinkedHashMap中，没有重写put算法，但是重写了newNode()方法，这样在执行put()操作时，会将新加入的节点加到双向链表的末尾  \n",
    "此外，如果是使用的访问顺序，娜美LinkedHashMap还重写了HashMap中的函数afterNodeInsertion()，在插入Node之后会判断是否需要删除队头元素，也就是最近最久未被访问的节点  \n",
    "2. 删(remove):\n",
    "没有重写删除操作remove(),但是在删除元素之后，会在双向链表中把节点也删除掉  \n",
    "3. 查(get):  \n",
    "在get方法中，如果设置了访问顺序，那么在查找元素之后要，将查找的元素放在双向链表的末尾  \n",
    "contiansValue()方法:在查找Map中是否包含某个值时，直接遍历双向链表而不是EntrySet  \n",
    "\n",
    "#### 迭代器：\n",
    "LinkedHashMap中的迭代器，是按照内部双向链表的顺序迭代的"
   ]
  },
  {
   "cell_type": "code",
   "execution_count": 27,
   "metadata": {},
   "outputs": [
    {
     "name": "stdout",
     "output_type": "stream",
     "text": [
      "0=0\n",
      "1=1\n",
      "2=4\n",
      "3=9\n",
      "4=16\n",
      "5=25\n",
      "6=36\n",
      "7=49\n",
      "8=64\n",
      "9=81\n"
     ]
    }
   ],
   "source": [
    "Map<Integer,Integer> linkedhashmap = new LinkedHashMap<>();\n",
    "for(int i=0;i<10;i++){\n",
    "    linkedhashmap.put(i,i*i);\n",
    "}\n",
    "Set<Map.Entry<Integer,Integer>> entryset = linkedhashmap.entrySet();\n",
    "Iterator iter = entryset.iterator();\n",
    "while(iter.hasNext()){\n",
    "    Map.Entry<Integer,Integer> e = (Map.Entry<Integer,Integer>)iter.next();\n",
    "    System.out.println(e.getKey()+\"=\"+e.getValue());\n",
    "}"
   ]
  },
  {
   "cell_type": "markdown",
   "metadata": {},
   "source": [
    "## 堆优先级队列\n",
    "\n",
    "\n",
    "首先实现一个小顶堆，小顶堆可以实现从大到小排序"
   ]
  },
  {
   "cell_type": "code",
   "execution_count": 57,
   "metadata": {},
   "outputs": [
    {
     "name": "stdout",
     "output_type": "stream",
     "text": [
      "数组a构建成小顶堆为:[2, 3, 4, 11, 6, 5, 10]\n",
      "数组b构建成小顶堆为:[2, 4, 3, 11, 6, 5, 10]\n"
     ]
    }
   ],
   "source": [
    "//首先实现一个小顶堆，以及相关的操作(建堆，向上调整，向下调整)\n",
    "\n",
    "void siftdown(int i,int[] array,int n){//对堆的向下调整算法，将以index为根的子树调整为堆,n为实际的堆的长度\n",
    "    int temp = array[i];\n",
    "    int index = i;\n",
    "    int j = 2*index+1;//j用来保存index节点的左孩子节点位置\n",
    "    while(j<n){\n",
    "        if(j+1<n&&array[j]>array[j+1])//如果节点存在右孩子，令j指向值小的那个孩子\n",
    "            j=j+1;\n",
    "        if(temp>array[j]){ //需要调整\n",
    "            array[index] = array[j];\n",
    "            index = j;\n",
    "            j = 2*index+1;\n",
    "        }else{\n",
    "            //array[index] = temp;\n",
    "            break;\n",
    "        }\n",
    "    }\n",
    "    array[index] = temp;\n",
    "}\n",
    "void siftup(int i,int[] array){//对小顶堆的向上调整算法，将位置i以及向上的节点调整成堆,n为数组元素个数）\n",
    "    int index = i;\n",
    "    int j = (i-1)/2;//节点i对应的父节点\n",
    "    int temp = array[index];\n",
    "    while(j>=0&&index>0){\n",
    "        if(temp<array[j]){\n",
    "            array[index] = array[j];\n",
    "            index = j;\n",
    "            j = (index-1)/2;\n",
    "        }else{\n",
    "            break;\n",
    "        }\n",
    "    }\n",
    "    array[index] = temp;\n",
    "}\n",
    "\n",
    "void heapify(int[] array){//给定一个数组，构造成一个小顶堆\n",
    "    int n = array.length-1;\n",
    "    for(int i=(n-1)/2;i>=0;i--){//从第一个非叶子节点开始向下调整\n",
    "        siftdown(i,array,n+1);\n",
    "    }\n",
    "}\n",
    "\n",
    "void heapSort(int[] array){//堆排序(从大到小),构建堆之后，每轮都将根元素和最后一个孩子更换，然后重新调整堆，\n",
    "    heapify(array);\n",
    "    for(int n=array.length-1;n>=2;n--){\n",
    "        int temp = array[n];\n",
    "        array[n] = array[0];\n",
    "        array[0] = temp;\n",
    "        siftdown(0,array,n-1);\n",
    "        \n",
    "    }\n",
    "}\n",
    "// int[] x = {4,3,5,1,6,2,10};\n",
    "// heapSort(x);\n",
    "//Arrays.toString(x)\n",
    "\n",
    "\n",
    "//使用两种不同的方法来构建小顶堆\n",
    "\n",
    "int[] a = {4,3,5,11,6,2,10};\n",
    "int[] b = Arrays.copyOf(a,a.length);\n",
    "heapify(a);\n",
    "System.out.println(\"数组a构建成小顶堆为:\"+Arrays.toString(a));\n",
    "for(int i=1;i<b.length;i++){\n",
    "    siftup(i,b);\n",
    "}\n",
    "System.out.println(\"数组b构建成小顶堆为:\"+Arrays.toString(b));\n"
   ]
  },
  {
   "cell_type": "code",
   "execution_count": 53,
   "metadata": {},
   "outputs": [
    {
     "data": {
      "text/plain": [
       "0"
      ]
     },
     "execution_count": 53,
     "metadata": {},
     "output_type": "execute_result"
    }
   ],
   "source": [
    "-1/2"
   ]
  },
  {
   "cell_type": "markdown",
   "metadata": {},
   "source": [
    "### 优先级队列PriorityQueue\n",
    "\n",
    "PriorityQueue，称为优先级队列。它实现了队列接口。与LinkedList类似，但是优先级队列有一个优先级的概念，  \n",
    "每个元素都有一个优先级，队头元素的优先级最高。  \n",
    "**队列的实现的操作(offer/add,poll/remove,peek/element)**\n",
    "优先级队列的内部是使用堆来实现的，在逐个输出元素时，按照优先级从高到低输出。  \n",
    "优先级队列可以看作一个实现了堆的性质的数据结构。**注意内部的堆为小顶堆**  \n",
    "PriorityQueue 是用堆来实现的。内部就是一个数组，这里也是使用的可扩展的动态数组。默认的数组大小为11  \n",
    "为了保持顺序，PriorityQueue中的元素要么实现了Comparable接口，要么传入一个比较器对象comparator  "
   ]
  },
  {
   "cell_type": "code",
   "execution_count": 28,
   "metadata": {},
   "outputs": [
    {
     "name": "stdout",
     "output_type": "stream",
     "text": [
      "[45, 12, 10, 6, 6, 8, 3, 4]\n",
      "45\n",
      "12\n",
      "10\n",
      "8\n",
      "6\n",
      "6\n",
      "4\n",
      "3\n"
     ]
    }
   ],
   "source": [
    "import java.util.PriorityQueue;\n",
    "//Queue<Integer> myQueue = new PriorityQueue<>();\n",
    "Queue<Integer> myQueue = new PriorityQueue<>(11,new Comparator<Integer>()\n",
    "                                                            {public int compare(Integer o1,Integer o2){\n",
    "                                                                return o2.compareTo(o1);\n",
    "                                                            }}); //这里添加了一个自定义的比较器(从大到小的比较)\n",
    "myQueue.add(10);\n",
    "myQueue.offer(4);\n",
    "myQueue.addAll(Arrays.asList(new Integer[]{45,6,12,8,3,6}));\n",
    "System.out.println(myQueue);//这里相当于在内部构建了一个小顶堆\n",
    "//按比较顺序输出\n",
    "while(myQueue.peek()!=null){\n",
    "    System.out.println(myQueue.poll());\n",
    "}\n",
    "Queue<Integer> anotherQueue = new PriorityQueue<>()"
   ]
  },
  {
   "cell_type": "markdown",
   "metadata": {},
   "source": [
    "### 优先级队列的实现原理\n",
    "1. PriorityQueue类的内部有这么几个属性:  \n",
    "一个数组Object[] queue,表示队列.size表示元素个数,一个比较器对象comparator,用于元素间的比较\n",
    "\n",
    "2. 对元素的操作(offer,poll,peek)  \n",
    "1) 在队尾增加元素 **offer(E e):**  \n",
    "在队尾增加元素，会用到向上调整方法siftUp,将元素插入队列末尾(如果队列空间不足，需要扩容，空间小的化扩充为两倍，空间大的话扩充为1,5倍),插入后需要调整堆满足对应的要求。要向上调整  \n",
    "2) 弹出队头元素 **poll()**  \n",
    "首先队头元素为排序顺序最小的元素，弹出去之后，为了保证堆的性质不变，将队尾元素加入到队头，然后向下调整siftDown  \n",
    "3) 根据给定的元素值删除 **remove()**  \n",
    "首先根据给定的值按顺序遍历找到元素在queue中的位置索引。  \n",
    "然后删除对应位置的元素，注意，如果删除的不是最后一个元素，需要将最后一个元素移动到删除位置，并对堆进行调整。由于是在中间位置调整，首先向下调整，如果没有调整过，再向上调整。\n",
    "\n",
    "\n",
    "### 小节\n",
    "对于java中的PriorityQueue类，它实现了队列接口Queue.并且元素按优先级的顺序出队，它的内部是一个小顶堆。  \n",
    "**但是要注意，如果遍历PriorityQueue对象，输出的为内部的queue数组，这个代表着一个小顶堆数组，但是他并没有顺序，只能保证第一个元素为优先级最高的(排序顺序最小的).**"
   ]
  },
  {
   "cell_type": "markdown",
   "metadata": {},
   "source": [
    "### 利用堆和PirorityQueue来解决一些问题\n",
    "topK问题和中值问题\n",
    "1.topK问题，找出给定序列中的前K大的元素  \n",
    "2.中值问题，找出给定序列中的中位数  \n",
    "**利用堆数据结构，可以解决这两问题，并且给定的数组可以是动态增加的(也就是不断的有新的数据到来)**\n",
    "\n",
    "####  topK问题\n",
    "\n",
    "topK问题的一种解决方法是使用一个长度为K的数组来保存当前最大的K个元素。每次有新的元素加入，如果新元素小于topK数组中最小的元素，将其替换为新元素，否则topK数组不变。\n",
    "\n",
    "维护这个topK数组的方式有很多，但是每次都要找到topK数组中的最小元素。**一种有效的实现方案是使用小顶堆(或者称为优先级队列)**，它能保证topK的首个元素始终为最小的，每次只需要和他比较，然后维护整个小顶堆"
   ]
  },
  {
   "cell_type": "code",
   "execution_count": 43,
   "metadata": {},
   "outputs": [
    {
     "name": "stdout",
     "output_type": "stream",
     "text": [
      "[6, 7, 10, 9, 100]\n"
     ]
    },
    {
     "data": {
      "text/plain": [
       "[1, 2, 4, 5, 6, 6, 7, 9, 10]"
      ]
     },
     "execution_count": 43,
     "metadata": {},
     "output_type": "execute_result"
    }
   ],
   "source": [
    "import java.util.ArrayList;\n",
    "public class topK<E>{\n",
    "    PriorityQueue<E> queue;\n",
    "    int K;\n",
    "    public topK(int K){\n",
    "        this.K = K;\n",
    "        queue = new PriorityQueue<E>(K);\n",
    "    }\n",
    "    \n",
    "    public void add(E e){ //add操作，需要判断当前topK数组是否已满，如果满了就和堆顶元素比较与交换\n",
    "        if(queue.size()<K) queue.offer(e); //如果数组未满，直接加入堆中\n",
    "        else{\n",
    "            Comparable<? super E>first = (Comparable<? super E>)queue.peek();\n",
    "            if(first.compareTo(e)<0){ //如果新到的元素比队头元素大，去掉队头元素，新元素加入\n",
    "                queue.poll();//移除队头元素(当前最小的),然后将元素e加入堆中\n",
    "                queue.offer(e);\n",
    "            }\n",
    "        }\n",
    "    }\n",
    "    public void addAll(Collection<? extends E> array){\n",
    "        for(E e:array){\n",
    "            this.add(e);\n",
    "        }\n",
    "    }\n",
    "    \n",
    "    public String toString(){\n",
    "        return queue.toString();\n",
    "    }\n",
    "    \n",
    "}\n",
    "\n",
    "topK array = new topK<Integer>(5);\n",
    "Integer[] a = new Integer[]{2,7,6,1,9,5,10,6,4};\n",
    "array.addAll(Arrays.asList(a));\n",
    "array.add(100);\n",
    "System.out.println(array);\n",
    "Arrays.sort(a);\n",
    "Arrays.toString(a);"
   ]
  },
  {
   "cell_type": "markdown",
   "metadata": {},
   "source": [
    "### 中位数问题\n",
    "\n",
    "找出给定数组中的中位数，也就是数组中大于中位数和小于中位数的元素个数是相同的  \n",
    "如果元素个数为奇数，中位数只有一个，如果元素个数为偶数，中位数有两个。**一个解决办法是排序。**  \n",
    "如果给定的是动态的数组(数组元素不断到来),可以使用堆来解决这个问题，也就是实时的获取当前的数组的中位数\n",
    "\n",
    "#### 实现的方法:\n",
    "1. 维护两个堆，一个大顶堆，一个小顶堆。  \n",
    "2. 假定中位数为m,大顶堆中存放小于等于m的元素，小顶堆中存放大于等于m的元素，但是m不在两个堆中.  \n",
    "3. 每次有新元素e到来时，根据大小关系加入到大顶堆或者小顶堆中。  \n",
    "4. 如果这时候大顶堆和小顶堆的元素个数超过2，需要调整中位数。将旧的中位数加入元素少的堆，然后将元素多的堆顶弹出作为中位数  \n",
    "\n",
    "#### 原理:\n",
    "大顶堆相当于中位数左边的元素，小顶堆相当于中位数右边的元素。  \n",
    "两个堆放入堆顶元素对应着最靠近中位数的两个元素。  \n",
    "只要保证左边的堆和右边的堆之间的元素个数差距在1以内，中位数左边和右边的元素数目是相同的。\n"
   ]
  },
  {
   "cell_type": "code",
   "execution_count": 64,
   "metadata": {},
   "outputs": [
    {
     "name": "stdout",
     "output_type": "stream",
     "text": [
      "[247, 277, 290, 372, 407, 417, 498, 500, 539, 583, 790, 959]\n"
     ]
    },
    {
     "data": {
      "text/plain": [
       "498"
      ]
     },
     "execution_count": 64,
     "metadata": {},
     "output_type": "execute_result"
    }
   ],
   "source": [
    "import java.util.Random;\n",
    "PriorityQueue<Integer> maxHeap = new PriorityQueue<>(11,(o1,o2)->{return o2.compareTo(o1);});//大顶堆，传入的比较器为较大值优先\n",
    "PriorityQueue<Integer> minHeap = new PriorityQueue<>(11); //小顶堆\n",
    "\n",
    "Integer[] array = new Integer[12];\n",
    "Random rand = new Random();\n",
    "for(int i=0;i<array.length;i++){\n",
    "    array[i] = rand.nextInt(1000);\n",
    "}\n",
    "int m = array[0];\n",
    "for(int i=0;i<array.length;i++){\n",
    "    int e = array[i];\n",
    "    if(e>m) minHeap.offer(e);\n",
    "    else maxHeap.offer(e);\n",
    "    int d = minHeap.size()-maxHeap.size();\n",
    "    if(d>=2||d<=-2){\n",
    "        if(d>0) {\n",
    "            maxHeap.offer(m);\n",
    "            m = minHeap.poll();\n",
    "        }\n",
    "        else{\n",
    "            minHeap.offer(m);\n",
    "            m = maxHeap.poll();\n",
    "        }\n",
    "    }\n",
    "}\n",
    "Arrays.sort(array);\n",
    "System.out.println(Arrays.toString(array));\n",
    "m\n"
   ]
  },
  {
   "cell_type": "code",
   "execution_count": null,
   "metadata": {},
   "outputs": [],
   "source": []
  }
 ],
 "metadata": {
  "kernelspec": {
   "display_name": "Java",
   "language": "java",
   "name": "java"
  },
  "language_info": {
   "codemirror_mode": "java",
   "file_extension": ".jshell",
   "mimetype": "text/x-java-source",
   "name": "Java",
   "pygments_lexer": "java",
   "version": "12.0.1+12"
  }
 },
 "nbformat": 4,
 "nbformat_minor": 2
}
